{
 "cells": [
  {
   "cell_type": "markdown",
   "metadata": {},
   "source": ["# YouTube Comments Sentiment + LLM Analysis"]
  },
  {
   "cell_type": "code",
   "execution_count": null,
   "metadata": {},
   "outputs": [],
   "source": ["from src.llm.gemini_api import *\nfrom src.prompt_engineering.prompt_templates import *"]
  }
 ],
 "metadata": {},
 "nbformat": 4,
 "nbformat_minor": 2
}
